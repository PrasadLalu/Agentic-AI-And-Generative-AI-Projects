{
 "cells": [
  {
   "cell_type": "markdown",
   "metadata": {},
   "source": [
    "## Code Generation and Review Workflow"
   ]
  },
  {
   "cell_type": "code",
   "execution_count": 2,
   "metadata": {},
   "outputs": [
    {
     "data": {
      "text/plain": [
       "True"
      ]
     },
     "execution_count": 2,
     "metadata": {},
     "output_type": "execute_result"
    }
   ],
   "source": [
    "from dotenv import load_dotenv\n",
    "\n",
    "# Load env vars\n",
    "load_dotenv()"
   ]
  },
  {
   "cell_type": "code",
   "execution_count": 3,
   "metadata": {},
   "outputs": [
    {
     "data": {
      "text/plain": [
       "ChatGroq(client=<groq.resources.chat.completions.Completions object at 0x7f3e4c7842e0>, async_client=<groq.resources.chat.completions.AsyncCompletions object at 0x7f3e4c785690>, model_name='llama3-8b-8192', model_kwargs={}, groq_api_key=SecretStr('**********'))"
      ]
     },
     "execution_count": 3,
     "metadata": {},
     "output_type": "execute_result"
    }
   ],
   "source": [
    "from langchain_groq import ChatGroq\n",
    "\n",
    "# Initialize Llama3 model\n",
    "llm = ChatGroq(model=\"llama3-8b-8192\")\n",
    "llm"
   ]
  },
  {
   "cell_type": "code",
   "execution_count": 4,
   "metadata": {},
   "outputs": [],
   "source": [
    "from typing_extensions import TypedDict\n",
    "\n",
    "# Graph state\n",
    "class State(TypedDict):\n",
    "    code: str\n",
    "    prompt: str\n",
    "    testcases: str\n",
    "    reviewed_code:str\n",
    "    code_approved:str\n"
   ]
  },
  {
   "cell_type": "code",
   "execution_count": 5,
   "metadata": {},
   "outputs": [],
   "source": [
    "# Define nodes\n",
    "def generate_code(state: State):\n",
    "    \"\"\"LLM call to generate code from the given prompt.\"\"\"\n",
    "    result = llm.invoke(f\"Write a programming code for {state['prompt']}\")\n",
    "    return {\"code\": result.content}\n",
    "\n",
    "def write_testcases(state: State):\n",
    "    \"\"\"LLM call to write the test cases for the generated code.\"\"\"\n",
    "    result = llm.invoke(f\"Write the test cases for the following code: {state['code']}\")\n",
    "    return {\"testcases\": result.content}\n",
    "\n",
    "def code_reviewer(state: State):\n",
    "    \"\"\" LLM to review the generated code and provide efficiency suggestions.\"\"\"\n",
    "    result = llm.invoke(f\"Make this code more efficient by giving suggestions with suggestions: {state['code']}\")\n",
    "    result = llm.invoke(f\"Act like a senior developer, review the code and suggest improvements for efficiency: {state['code']}\")\n",
    "    return {\"reviewed_code\": result.content}\n",
    "\n",
    "def code_evaluator(state: State):\n",
    "    \"\"\"LLM call to reviewing the code and providing approval status.\"\"\"\n",
    "    result = llm.invoke(f\"Act like a project manager, review the following code and provide an approval status ('Pass' or 'Fail'): {state['reviewed_code']}\")\n",
    "    return {\"code_approved\": result.content}\n",
    "\n",
    "def check_approved(state: State):\n",
    "    \"\"\"Evaluate the approval status of the code\"\"\"\n",
    "\n",
    "    if \"approved\" in state[\"code_approved\"].lower() or \"pass\" in state[\"code_approved\"].lower():\n",
    "        return \"Pass\"\n",
    "    return \"Fail\""
   ]
  },
  {
   "cell_type": "code",
   "execution_count": 22,
   "metadata": {},
   "outputs": [],
   "source": [
    "from langgraph.graph import StateGraph, START, END\n",
    "\n",
    "# Build workflow\n",
    "workflow_builder = StateGraph(State)\n",
    "\n",
    "# Add nodes\n",
    "workflow_builder.add_node(\"generate_code\", generate_code)\n",
    "workflow_builder.add_node(\"write_testcases\", write_testcases)\n",
    "workflow_builder.add_node(\"code_reviewer\", code_reviewer)\n",
    "workflow_builder.add_node(\"code_evaluator\", code_evaluator)\n",
    "\n",
    "# Add edges to connect nodes\n",
    "workflow_builder.add_edge(START, \"generate_code\")\n",
    "workflow_builder.add_edge(\"generate_code\", \"write_testcases\")\n",
    "workflow_builder.add_edge(\"write_testcases\", \"code_reviewer\")\n",
    "\n",
    "workflow_builder.add_conditional_edges(\n",
    "    \"code_evaluator\", \n",
    "    check_approved, \n",
    "    {\"Fail\": \"generate_code\", \"Pass\": END}\n",
    ")\n",
    "workflow_builder.add_edge(\"code_reviewer\", \"code_evaluator\")\n",
    "workflow_builder.add_edge(\"code_evaluator\", END)\n",
    "\n",
    "# Compile the workflow\n",
    "workflow = workflow_builder.compile()"
   ]
  },
  {
   "cell_type": "code",
   "execution_count": 23,
   "metadata": {},
   "outputs": [
    {
     "data": {
      "image/png": "[encoded data removed]",
      "text/plain": [
       "<IPython.core.display.Image object>"
      ]
     },
     "metadata": {},
     "output_type": "display_data"
    }
   ],
   "source": [
    "from IPython.display import Image, display\n",
    "\n",
    "display(Image(workflow.get_graph().draw_mermaid_png()))"
   ]
  },
  {
   "cell_type": "code",
   "execution_count": 24,
   "metadata": {},
   "outputs": [
    {
     "data": {
      "text/plain": [
       "{'code': \"Here is a Python function to calculate the factorial of a number:\\n```\\ndef factorial(n):\\n    if n == 0:\\n        return 1\\n    else:\\n        return n * factorial(n-1)\\n```\\nThis is a recursive function, which means it calls itself to calculate the factorial. The base case is when `n` is 0, in which case the function returns 1 (since the factorial of 0 is defined to be 1). Otherwise, the function calls itself with `n-1` as the argument, and multiplies the result by `n`.\\n\\nHere's an example usage:\\n```\\n>>> factorial(5)\\n120\\n```\\nThis would calculate the factorial of 5, which is 5 * 4 * 3 * 2 * 1 = 120.\\n\\nYou can also write an iterative version of the function using a loop:\\n```\\ndef factorial(n):\\n    result = 1\\n    for i in range(1, n+1):\\n        result *= i\\n    return result\\n```\\nThis function uses a loop to calculate the factorial, starting from 1 and multiplying the result by each integer up to `n`.\\n\\nBoth of these functions will work correctly for positive integers, but you may want to add error handling to handle cases where `n` is a negative integer or a non-integer value.\\n\\nYou can also use the `math.factorial` function from the Python `math` module, which is a built-in function that calculates the factorial:\\n```\\nimport math\\nprint(math.factorial(5))  # Output: 120\\n```\\nNote that this function is only available in Python 3.2 and later. In earlier versions of Python, you would need to use one of the recursive or iterative functions above.\",\n",
       " 'prompt': 'Write a Python function to calculate the factorial of a number.',\n",
       " 'testcases': 'Here are some test cases for the recursive and iterative factorial functions:\\n\\n**Recursive Function**\\n\\n1. `factorial(0)`: Expected output: 1 (base case)\\n2. `factorial(1)`: Expected output: 1 (should return 1)\\n3. `factorial(2)`: Expected output: 2 (should return 2)\\n4. `factorial(3)`: Expected output: 6 (should return 6)\\n5. `factorial(4)`: Expected output: 24 (should return 24)\\n6. `factorial(5)`: Expected output: 120 (should return 120)\\n7. `factorial(6)`: Expected output: 720 (should return 720)\\n8. `factorial(7)`: Expected output: 5040 (should return 5040)\\n9. `factorial(-1)`: Expected output: Error (should raise an error, as `n` is negative)\\n10. `factorial(3.5)`: Expected output: Error (should raise an error, as `n` is a non-integer)\\n\\n**Iterative Function**\\n\\n1. `factorial(0)`: Expected output: 1 (base case)\\n2. `factorial(1)`: Expected output: 1 (should return 1)\\n3. `factorial(2)`: Expected output: 2 (should return 2)\\n4. `factorial(3)`: Expected output: 6 (should return 6)\\n5. `factorial(4)`: Expected output: 24 (should return 24)\\n6. `factorial(5)`: Expected output: 120 (should return 120)\\n7. `factorial(6)`: Expected output: 720 (should return 720)\\n8. `factorial(7)`: Expected output: 5040 (should return 5040)\\n9. `factorial(-1)`: Expected output: Error (should raise an error, as `n` is negative)\\n10. `factorial(3.5)`: Expected output: Error (should raise an error, as `n` is a non-integer)\\n\\n**Additional Test Cases**\\n\\n1. `math.factorial(0)`: Expected output: 1 (built-in function)\\n2. `math.factorial(1)`: Expected output: 1 (built-in function)\\n3. `math.factorial(2)`: Expected output: 2 (built-in function)\\n4. `math.factorial(3)`: Expected output: 6 (built-in function)\\n5. `math.factorial(4)`: Expected output: 24 (built-in function)\\n6. `math.factorial(5)`: Expected output: 120 (built-in function)\\n7. `math.factorial(6)`: Expected output: 720 (built-in function)\\n8. `math.factorial(7)`: Expected output: 5040 (built-in function)\\n\\nNote that the built-in `math.factorial` function only works for non-negative integers, so you may want to add additional test cases to verify that it raises an error for negative integers or non-integer values.',\n",
       " 'reviewed_code': 'As a senior developer, I\\'ll review the code and suggest improvements for efficiency.\\n\\n**Recursive Function:**\\n\\nThe recursive function is straightforward and easy to understand. However, it has a few issues:\\n\\n1. **Function call overhead**: Each recursive call incurs a function call overhead, which can lead to performance issues for large values of `n`.\\n2. **Stack overflow**: The recursive function will cause a stack overflow for large values of `n`, as the function calls itself recursively without terminating.\\n\\nTo improve the efficiency of the recursive function, you can use a technique called \"memoization\" to store the results of previously computed factorials. This can help reduce the number of function calls and improve performance.\\n\\nHere\\'s an updated version of the recursive function with memoization:\\n```python\\ndef factorial(n, memo={}):\\n    if n == 0:\\n        return 1\\n    elif n in memo:\\n        return memo[n]\\n    else:\\n        result = n * factorial(n-1, memo)\\n        memo[n] = result\\n        return result\\n```\\n**Iterative Function:**\\n\\nThe iterative function is generally more efficient than the recursive function, as it avoids the function call overhead and stack overflow issues.\\n\\nHowever, there is still room for improvement:\\n\\n1. **Variable scope**: The `result` variable is defined within the loop, which can make the code harder to read and understand.\\n2. ** Loop optimization**: The loop iterates from 1 to `n`, which can be optimized by starting the loop from 1 and using `range(1, n+1)`.\\n\\nHere\\'s an updated version of the iterative function with improved variable scope and loop optimization:\\n```python\\ndef factorial(n):\\n    result = 1\\n    for i in range(1, n+1):\\n        result *= i\\n    return result\\n```\\n**Built-in `math.factorial` Function:**\\n\\nThe built-in `math.factorial` function is the most efficient and recommended way to calculate the factorial, as it is optimized for performance and handles edge cases correctly.\\n\\n**Additional Suggestions:**\\n\\n1. **Error handling**: Consider adding error handling to handle cases where `n` is a negative integer or a non-integer value. This can be done using a `try`-`except` block or a simple `if` statement.\\n2. **Docstrings**: Consider adding docstrings to the functions to provide a clear description of their purpose and behavior.\\n3. **Testing**: Consider writing unit tests to verify the correctness and efficiency of the functions.\\n\\nBy applying these suggestions, you can improve the efficiency and readability of the code.',\n",
       " 'code_approved': \"**Approval Status:** Pass\\n\\n**Reasoning:**\\n\\nThe code review highlights several areas for improvement, and the updated versions of the recursive and iterative functions address the issues effectively. The use of memoization in the recursive function reduces the number of function calls and improves performance, while the iterative function is optimized for efficiency.\\n\\nThe built-in `math.factorial` function is the most efficient and recommended way to calculate the factorial, and it's great that it's included as an option.\\n\\nThe additional suggestions provided are also valuable, as they enhance the code's robustness, readability, and maintainability. Error handling, docstrings, and testing are essential for ensuring the code's quality and reliability.\\n\\nOverall, I'm satisfied with the code and the suggested improvements. The updated functions are efficient, readable, and well-maintained, and the inclusion of the built-in `math.factorial` function provides an alternative solution.\"}"
      ]
     },
     "execution_count": 24,
     "metadata": {},
     "output_type": "execute_result"
    }
   ],
   "source": [
    "# Invoke the workflow\n",
    "result = workflow.invoke({\"prompt\": \"Write a Python function to calculate the factorial of a number.\"})\n",
    "result"
   ]
  },
  {
   "cell_type": "code",
   "execution_count": 25,
   "metadata": {},
   "outputs": [
    {
     "name": "stdout",
     "output_type": "stream",
     "text": [
      "------ GENERATED CODE ------\n",
      "Here is a Python function to calculate the factorial of a number:\n",
      "```\n",
      "def factorial(n):\n",
      "    if n == 0:\n",
      "        return 1\n",
      "    else:\n",
      "        return n * factorial(n-1)\n",
      "```\n",
      "This is a recursive function, which means it calls itself to calculate the factorial. The base case is when `n` is 0, in which case the function returns 1 (since the factorial of 0 is defined to be 1). Otherwise, the function calls itself with `n-1` as the argument, and multiplies the result by `n`.\n",
      "\n",
      "Here's an example usage:\n",
      "```\n",
      ">>> factorial(5)\n",
      "120\n",
      "```\n",
      "This would calculate the factorial of 5, which is 5 * 4 * 3 * 2 * 1 = 120.\n",
      "\n",
      "You can also write an iterative version of the function using a loop:\n",
      "```\n",
      "def factorial(n):\n",
      "    result = 1\n",
      "    for i in range(1, n+1):\n",
      "        result *= i\n",
      "    return result\n",
      "```\n",
      "This function uses a loop to calculate the factorial, starting from 1 and multiplying the result by each integer up to `n`.\n",
      "\n",
      "Both of these functions will work correctly for positive integers, but you may want to add error handling to handle cases where `n` is a negative integer or a non-integer value.\n",
      "\n",
      "You can also use the `math.factorial` function from the Python `math` module, which is a built-in function that calculates the factorial:\n",
      "```\n",
      "import math\n",
      "print(math.factorial(5))  # Output: 120\n",
      "```\n",
      "Note that this function is only available in Python 3.2 and later. In earlier versions of Python, you would need to use one of the recursive or iterative functions above.\n"
     ]
    }
   ],
   "source": [
    "# Check and display the generated code\n",
    "if 'code' in result:\n",
    "    print(\"------ GENERATED CODE ------\")\n",
    "    print(result['code'])\n",
    "else:\n",
    "    print(\"\\nNO CODE GENERATED FOR THE GIVEN PROMPT.\")"
   ]
  },
  {
   "cell_type": "code",
   "execution_count": 26,
   "metadata": {},
   "outputs": [
    {
     "name": "stdout",
     "output_type": "stream",
     "text": [
      "------ TEST CASES ------\n",
      "Here are some test cases for the recursive and iterative factorial functions:\n",
      "\n",
      "**Recursive Function**\n",
      "\n",
      "1. `factorial(0)`: Expected output: 1 (base case)\n",
      "2. `factorial(1)`: Expected output: 1 (should return 1)\n",
      "3. `factorial(2)`: Expected output: 2 (should return 2)\n",
      "4. `factorial(3)`: Expected output: 6 (should return 6)\n",
      "5. `factorial(4)`: Expected output: 24 (should return 24)\n",
      "6. `factorial(5)`: Expected output: 120 (should return 120)\n",
      "7. `factorial(6)`: Expected output: 720 (should return 720)\n",
      "8. `factorial(7)`: Expected output: 5040 (should return 5040)\n",
      "9. `factorial(-1)`: Expected output: Error (should raise an error, as `n` is negative)\n",
      "10. `factorial(3.5)`: Expected output: Error (should raise an error, as `n` is a non-integer)\n",
      "\n",
      "**Iterative Function**\n",
      "\n",
      "1. `factorial(0)`: Expected output: 1 (base case)\n",
      "2. `factorial(1)`: Expected output: 1 (should return 1)\n",
      "3. `factorial(2)`: Expected output: 2 (should return 2)\n",
      "4. `factorial(3)`: Expected output: 6 (should return 6)\n",
      "5. `factorial(4)`: Expected output: 24 (should return 24)\n",
      "6. `factorial(5)`: Expected output: 120 (should return 120)\n",
      "7. `factorial(6)`: Expected output: 720 (should return 720)\n",
      "8. `factorial(7)`: Expected output: 5040 (should return 5040)\n",
      "9. `factorial(-1)`: Expected output: Error (should raise an error, as `n` is negative)\n",
      "10. `factorial(3.5)`: Expected output: Error (should raise an error, as `n` is a non-integer)\n",
      "\n",
      "**Additional Test Cases**\n",
      "\n",
      "1. `math.factorial(0)`: Expected output: 1 (built-in function)\n",
      "2. `math.factorial(1)`: Expected output: 1 (built-in function)\n",
      "3. `math.factorial(2)`: Expected output: 2 (built-in function)\n",
      "4. `math.factorial(3)`: Expected output: 6 (built-in function)\n",
      "5. `math.factorial(4)`: Expected output: 24 (built-in function)\n",
      "6. `math.factorial(5)`: Expected output: 120 (built-in function)\n",
      "7. `math.factorial(6)`: Expected output: 720 (built-in function)\n",
      "8. `math.factorial(7)`: Expected output: 5040 (built-in function)\n",
      "\n",
      "Note that the built-in `math.factorial` function only works for non-negative integers, so you may want to add additional test cases to verify that it raises an error for negative integers or non-integer values.\n"
     ]
    }
   ],
   "source": [
    "# Check and display the generated test cases\n",
    "if \"testcases\" in result:\n",
    "    print(\"------ TEST CASES ------\")\n",
    "    print(result['testcases'])\n",
    "else:\n",
    "    print(\"\\nNO TEST CASES FOUND.\")"
   ]
  },
  {
   "cell_type": "code",
   "execution_count": 27,
   "metadata": {},
   "outputs": [
    {
     "name": "stdout",
     "output_type": "stream",
     "text": [
      "------ APPROVED CODE ------\n",
      "**Approval Status:** Pass\n",
      "\n",
      "**Reasoning:**\n",
      "\n",
      "The code review highlights several areas for improvement, and the updated versions of the recursive and iterative functions address the issues effectively. The use of memoization in the recursive function reduces the number of function calls and improves performance, while the iterative function is optimized for efficiency.\n",
      "\n",
      "The built-in `math.factorial` function is the most efficient and recommended way to calculate the factorial, and it's great that it's included as an option.\n",
      "\n",
      "The additional suggestions provided are also valuable, as they enhance the code's robustness, readability, and maintainability. Error handling, docstrings, and testing are essential for ensuring the code's quality and reliability.\n",
      "\n",
      "Overall, I'm satisfied with the code and the suggested improvements. The updated functions are efficient, readable, and well-maintained, and the inclusion of the built-in `math.factorial` function provides an alternative solution.\n"
     ]
    }
   ],
   "source": [
    "# Check and display the approval status of the code\n",
    "if \"code_approved\" in result:\n",
    "    print(\"------ APPROVED CODE ------\")\n",
    "    print(result[\"code_approved\"])\n",
    "else:\n",
    "    print(\"\\nCODE HAS NOT BEEN APPROVED.\")"
   ]
  },
  {
   "cell_type": "code",
   "execution_count": null,
   "metadata": {},
   "outputs": [],
   "source": []
  }
 ],
 "metadata": {
  "kernelspec": {
   "display_name": "Python 3",
   "language": "python",
   "name": "python3"
  },
  "language_info": {
   "codemirror_mode": {
    "name": "ipython",
    "version": 3
   },
   "file_extension": ".py",
   "mimetype": "text/x-python",
   "name": "python",
   "nbconvert_exporter": "python",
   "pygments_lexer": "ipython3",
   "version": "3.10.16"
  }
 },
 "nbformat": 4,
 "nbformat_minor": 2
}
