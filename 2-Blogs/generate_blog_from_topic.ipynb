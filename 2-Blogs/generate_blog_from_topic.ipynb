{
 "cells": [
  {
   "cell_type": "markdown",
   "metadata": {},
   "source": [
    "### LangGraph Blog Generation with Sequential Prompt Chaining"
   ]
  },
  {
   "cell_type": "code",
   "execution_count": 1,
   "metadata": {},
   "outputs": [],
   "source": [
    "from dotenv import load_dotenv\n",
    "from langchain_openai import ChatOpenAI\n",
    "\n",
    "# Load env vars\n",
    "load_dotenv()\n",
    "\n",
    "# Initialize OpenAI model\n",
    "llm = ChatOpenAI(model=\"gpt-4o\")"
   ]
  },
  {
   "cell_type": "code",
   "execution_count": 3,
   "metadata": {},
   "outputs": [],
   "source": [
    "from typing_extensions import TypedDict\n",
    "\n",
    "# Graph state\n",
    "class State(TypedDict):\n",
    "    topic: str\n",
    "    title: str\n",
    "    content: str"
   ]
  },
  {
   "cell_type": "code",
   "execution_count": 9,
   "metadata": {},
   "outputs": [],
   "source": [
    "# Define nodes\n",
    "def generate_title(state: State):\n",
    "    \"\"\"Generates a blog title based on the topic in the state. Just one single title best suitable for the topic.\"\"\"\n",
    "    result = llm.invoke(f\"Write a title for a blog about {state['topic']}\")\n",
    "    return {\"title\": result.content}\n",
    "\n",
    "\n",
    "def generate_content(state: State):\n",
    "    \"\"\"Generates blog content based on the title in the state.\"\"\"\n",
    "    result = llm.invoke(f\"Write blog content for the title {state['title']}\")\n",
    "    return {\"content\": result.content}"
   ]
  },
  {
   "cell_type": "code",
   "execution_count": 10,
   "metadata": {},
   "outputs": [],
   "source": [
    "from langgraph.graph import StateGraph, START, END\n",
    "\n",
    "# Build the workflow\n",
    "workflow = StateGraph(State)\n",
    "\n",
    "# Add nodes to workflow\n",
    "workflow.add_node(\"generate_blog_title\", generate_title)\n",
    "workflow.add_node(\"generate_blog_content\", generate_content)\n",
    "\n",
    "# Add edges to connect nodes\n",
    "workflow.add_edge(START, \"generate_blog_title\")\n",
    "workflow.add_edge(\"generate_blog_title\", \"generate_blog_content\")\n",
    "workflow.add_edge(\"generate_blog_content\", END)\n",
    "\n",
    "# Compile workflow\n",
    "graph = workflow.compile()"
   ]
  },
  {
   "cell_type": "code",
   "execution_count": 11,
   "metadata": {},
   "outputs": [
    {
     "data": {
      "image/png": "[encoded data removed]",
      "text/plain": [
       "<IPython.core.display.Image object>"
      ]
     },
     "metadata": {},
     "output_type": "display_data"
    }
   ],
   "source": [
    "# Show graph workflow\n",
    "from IPython.display import Image, display\n",
    "\n",
    "display(Image(graph.get_graph().draw_mermaid_png()))"
   ]
  },
  {
   "cell_type": "code",
   "execution_count": 12,
   "metadata": {},
   "outputs": [
    {
     "name": "stdout",
     "output_type": "stream",
     "text": [
      "\"Exploring Agentic AI: The Future of Autonomous Decision-Making\"\n",
      "Title: Exploring Agentic AI: The Future of Autonomous Decision-Making\n",
      "\n",
      "---\n",
      "\n",
      "**Introduction: The Rise of Agentic AI**\n",
      "\n",
      "In a world teetering on the brink of the digital and physical realms, the concept of agency in artificial intelligence is more prescient than ever. As we delve into the era of advanced technology, understanding agentic AI—AI systems that can make autonomous decisions—becomes crucial. Agentic AI systems are sophisticated machines capable of perceiving their environment, processing inputs, making informed decisions, and carrying out actions to achieve specific goals without human intervention. As we explore the future of autonomous decision-making, it's essential to grasp how agentic AI is reshaping industries, ethics, and society at large.\n",
      "\n",
      "**Understanding Agentic AI: Defining Autonomy**\n",
      "\n",
      "Agentic AI is not merely about pre-programmed responses or simple algorithms; it's about creating systems that can adapt, learn, and evolve. Autonomy in AI means these systems can make decisions based on dynamic input data, learning from past experiences, and adjusting to new information. With the ability to operate independently, agentic AI systems not only perform tasks but can strategize best approaches to achieve complex objectives.\n",
      "\n",
      "**Applications Across Industries: The AI Touch**\n",
      "\n",
      "1. **Healthcare Revolution**: In the medical field, agentic AI is pioneering in diagnostics and personalized medicine. AI algorithms analyze patient data to make decisions about personalized treatment plans, predict potential health issues, and even perform robotic surgeries with precision and minimal supervision.\n",
      "\n",
      "2. **Transportation and Logistics**: Autonomous vehicles are a testament to agentic AI in action. These AI-driven automobiles make real-time decisions regarding navigation, obstacle avoidance, and traffic management, creating safer and more efficient transportation networks.\n",
      "\n",
      "3. **Finance and Trading**: In the financial sector, AI algorithms autonomously analyze market trends, purchase and sell stocks, and manage entire portfolios, all while adapting to real-time shifts in the market landscape.\n",
      "\n",
      "4. **Smart Cities**: Urban planning and infrastructure management benefit from AI's ability to autonomously control traffic flows, manage energy consumption, and ensure the efficient operation of public services, enhancing livability and sustainability.\n",
      "\n",
      "**Challenges and Ethical Considerations**\n",
      "\n",
      "While the potential of agentic AI is groundbreaking, it comes with its own set of challenges and ethical dilemmas:\n",
      "\n",
      "- **Data Privacy**: The vast amounts of data required for AI to make informed decisions raise concerns about privacy and data protection. Ensuring robust safeguards against misuse is imperative.\n",
      "\n",
      "- **Accountability**: When autonomous systems make decisions, especially those affecting human lives, determining accountability is complex. Clear guidelines and frameworks must be established.\n",
      "\n",
      "- **Bias and Fairness**: AI systems learn from data that may contain biases. Ensuring fairness and mitigating discriminatory practices in AI decision-making is a critical focus.\n",
      "\n",
      "- **Job Displacement**: As AI takes on roles traditionally performed by humans, there's a looming concern about job displacement. Preparing the workforce for this shift is essential.\n",
      "\n",
      "**The Path Forward: Balancing Innovation with Responsibility**\n",
      "\n",
      "As we forge ahead, the emphasis must be on integrating agentic AI in ways that augment human capabilities rather than replacing them. Collaborative human-AI systems can lead to new heights of innovation and efficiency. Policymakers, technologists, and society must work hand-in-hand to ensure that the development of agentic AI is aligned with ethical standards and societal values.\n",
      "\n",
      "**Conclusion: The Anticipated Horizon of Agentic AI**\n",
      "\n",
      "The future of autonomous decision-making is promising and transformative, with agentic AI at its core. As this technology evolves, it offers unprecedented opportunities to improve the human experience, tackle complex challenges, and unlock new economic potentials. However, the journey towards fully realizing the benefits of agentic AI requires thoughtful navigation of its ethical implications and societal impacts. By fostering a future where AI coexists harmoniously with humans, we can build a world that is more efficient, equitable, and enriching. Together, let's explore the limitless possibilities of agentic AI and shape a future defined by thoughtful and responsible innovation.\n"
     ]
    }
   ],
   "source": [
    "# Invoke\n",
    "result = graph.invoke({\"topic\": \"Agentic AI\"})\n",
    "print(result['title'])\n",
    "print(result['content'])"
   ]
  },
  {
   "cell_type": "code",
   "execution_count": null,
   "metadata": {},
   "outputs": [],
   "source": []
  }
 ],
 "metadata": {
  "kernelspec": {
   "display_name": "Python 3",
   "language": "python",
   "name": "python3"
  },
  "language_info": {
   "codemirror_mode": {
    "name": "ipython",
    "version": 3
   },
   "file_extension": ".py",
   "mimetype": "text/x-python",
   "name": "python",
   "nbconvert_exporter": "python",
   "pygments_lexer": "ipython3",
   "version": "3.10.16"
  }
 },
 "nbformat": 4,
 "nbformat_minor": 2
}
